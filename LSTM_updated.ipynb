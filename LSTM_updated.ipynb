{
 "cells": [
  {
   "cell_type": "code",
   "execution_count": 1,
   "id": "4205fc05",
   "metadata": {},
   "outputs": [
    {
     "data": {
      "text/html": [
       "<style>.container { width:100% !important; }</style>"
      ],
      "text/plain": [
       "<IPython.core.display.HTML object>"
      ]
     },
     "metadata": {},
     "output_type": "display_data"
    }
   ],
   "source": [
    "import torch \n",
    "import pandas as pd\n",
    "import numpy as np\n",
    "import matplotlib.pyplot as plt\n",
    "import yfinance as yf\n",
    "import torch.nn as nn\n",
    "import torch.nn.functional as F\n",
    "from torch.utils.data import DataLoader\n",
    "from sklearn.preprocessing import StandardScaler\n",
    "from sklearn.metrics import accuracy_score, confusion_matrix\n",
    "from sklearn.model_selection import TimeSeriesSplit\n",
    "import seaborn as sns\n",
    "from sklearn.linear_model import LinearRegression\n",
    "import statsmodels.api as sm\n",
    "import datetime\n",
    "\n",
    "pd.options.display.max_rows=50\n",
    "pd.set_option('display.float_format', '{:.4f}'.format)\n",
    "\n",
    "import warnings\n",
    "warnings.filterwarnings(\"ignore\")\n",
    "\n",
    "from IPython.core.display import display, HTML\n",
    "display(HTML(\"<style>.container { width:100% !important; }</style>\"))"
   ]
  },
  {
   "cell_type": "code",
   "execution_count": null,
   "id": "23773505",
   "metadata": {},
   "outputs": [],
   "source": [
    "output_lst = []\n",
    "stock_prices = yf.download(['SPY', '^N225', '^VIX'], auto_adjust=True, start='2006-01-01', end='2023-01-01', interval='1d')\n",
    "stock_prices_1h = yf.download(['SPY', '^FTSE'], auto_adjust=True, start='2021-02-07', end='2023-02-05', interval='1h')['Close'].rename(columns={'^FTSE': 'FTSE'}).reset_index()\n",
    "cpi = pd.read_csv('datastores/1year-yield-csv/CPI.csv', sep=',', parse_dates=['DATE']).rename(columns={'CORESTICKM159SFRBATL': 'cpi'}).set_index('DATE')\n",
    "t_bill_1y = pd.read_csv('datastores/1year-yield-csv/1year_yield.csv', sep=',', parse_dates=['DATE']).rename(columns={'DGS1': 't_bill_1y'}).set_index('DATE')\n",
    "gdp = pd.read_csv('datastores/1year-yield-csv/GDP.csv', sep=',', parse_dates=['DATE'])\\\n",
    "                                                                  .rename(columns={'GDP': 'gdp'})\\\n",
    "                                                                  .set_index('DATE')\\\n",
    "                                                                  .pct_change()\n",
    "unemployment = pd.read_csv('datastores/1year-yield-csv/UNRATE.csv', sep=',', parse_dates=['DATE']).rename(columns={'UNRATE': 'unemployment'}).set_index('DATE')\n",
    "spread_10y_2y = pd.read_csv('datastores/1year-yield-csv/T10Y2Y.csv', sep=',', parse_dates=['DATE']).rename(columns={'T10Y2Y':'spread_10y_2y'}).set_index('DATE')"
   ]
  },
  {
   "cell_type": "code",
   "execution_count": null,
   "id": "0cb7edda",
   "metadata": {},
   "outputs": [],
   "source": [
    "#features close_SPY | vix | volume_SPY | ret_close_close_SPY | ret_close_open_SPY | cpi | t_bill_1y | gdp | unemployment | spread_10y_2y | ret_N225\n",
    "#daily shifted\n",
    "#class y is in the same row with the features from the previous day\n",
    "\n",
    "flag_ret_close_open = False\n",
    "flag_ftse = False #if ftse is included to the features\n",
    "#ftse\n",
    "if flag_ftse:\n",
    "    gr_stock_prices_1h = stock_prices_1h.groupby([pd.Grouper(key='Datetime', freq='1d')]).count()\n",
    "    mask_dates = gr_stock_prices_1h.query('SPY > 0 & FTSE > 0').index\n",
    "    stock_prices_1h.index = stock_prices_1h['Datetime'].map(lambda x: x.date())\n",
    "    ftse = pd.DataFrame()\n",
    "    for date in mask_dates:\n",
    "        ftse_prices_1d = stock_prices_1h.loc[stock_prices_1h.index == date][:7]['FTSE'].dropna()\n",
    "        ftse_return = np.log(ftse_prices_1d.iloc[-1] / ftse_prices_1d.iloc[0])\n",
    "        ftse = ftse.append({'date': date, 'ret_ftse': ftse_return}, ignore_index=True)\n",
    "    ftse = ftse.set_index('date')\n",
    "    ftse.index = ftse.index.date\n",
    "    ftse['ret_ftse'] = ftse['ret_ftse'].astype(float)\n",
    "\n",
    "#spy\n",
    "spy = stock_prices['Open'][['SPY']].rename(columns={'SPY': 'open_SPY'})\n",
    "spy[['close_SPY', 'vix']] = stock_prices['Close'][['SPY', '^VIX']]\n",
    "spy['volume_SPY'] = stock_prices['Volume']['SPY']\n",
    "spy.index = spy.index.date\n",
    "spy = spy.dropna()\n",
    "if flag_ret_close_open:\n",
    "    spy['y'] = np.log(spy['close_SPY'] / spy['open_SPY'])\n",
    "    spy['class_y'] = spy['y'].map(lambda x: 1 if x > 0 else 0)\n",
    "    spy['ret_close_close'] = np.log(spy['close_SPY']).diff().shift()\n",
    "    spy['ret_close_open'] = np.log(spy['open_SPY'] / spy['close_SPY'].shift())\n",
    "else:\n",
    "    spy['y'] = np.log(spy['close_SPY'] / spy['close_SPY'].shift())\n",
    "    spy['class_y'] = spy['y'].map(lambda x: 1 if x > 0 else 0)\n",
    "    spy['ret_close_close'] = spy['y'].shift()\n",
    "\n",
    "spy[['close_sh', 'vix_sh', 'volume_sh']] = spy[['close_SPY', 'vix', 'volume_SPY']].shift()\n",
    "\n",
    "#n225\n",
    "n225 = stock_prices['Close'][['^N225']]\n",
    "n225.index = n225.index.date + datetime.timedelta(1)\n",
    "n225 = n225.dropna()\n",
    "n225['ret_n225'] = np.log(n225).diff()\n",
    "\n",
    "df = spy.copy()\n",
    "df.index = pd.to_datetime(df.index)\n",
    "\n",
    "#merging \n",
    "df = df.merge(n225, how='left', left_index=True, right_index=True)\\\n",
    "        .merge(cpi, how='outer', left_index=True, right_index=True)\\\n",
    "        .merge(t_bill_1y, how='outer', left_index=True, right_index=True)\\\n",
    "        .merge(gdp, how='outer', left_index=True, right_index=True)\\\n",
    "        .merge(unemployment, how='outer', left_index=True, right_index=True)\\\n",
    "        .merge(spread_10y_2y, how='outer', left_index=True, right_index=True)\\\n",
    "\n",
    "#filling\n",
    "df[['t_bill_1y', 'spread_10y_2y']] = df[['t_bill_1y', 'spread_10y_2y']].replace('.', np.NaN)\\\n",
    "                                                                       .astype(float)\\\n",
    "                                                                       .interpolate(method='linear')\\\n",
    "                                                                       .shift() #daily data\n",
    "df[['cpi', 'unemployment', 'gdp']] = df[['cpi', 'unemployment', 'gdp']].astype(float)\\\n",
    "                                                                       .fillna(method='ffill')\n",
    "\n",
    "#normalization\n",
    "df = df.dropna()\n",
    "normalized_features = ['close_sh', 'vix_sh', 'volume_sh', 'cpi', 't_bill_1y', 'gdp', 'unemployment', 'spread_10y_2y']\n",
    "scaler = StandardScaler()\n",
    "scaler.fit(df[normalized_features])\n",
    "df[normalized_features] = scaler.transform(df[normalized_features])\n",
    "\n",
    "#the model features\n",
    "features =  ['ret_close_close', 'ret_close_open', 'close_sh', 'vix_sh', 'volume_sh', 'ret_n225', 'cpi', 't_bill_1y', 'gdp', 'unemployment', 'spread_10y_2y']\n",
    "if not flag_ret_close_open:\n",
    "    features.remove('ret_close_open')\n",
    "if flag_ftse:\n",
    "    df = df.merge(ftse, how='inner', left_index=True, right_index=True)\n",
    "    features.append('ret_ftse')\n",
    "    \n",
    "df_feat = df[['class_y'] + features].copy()\n",
    "df_feat.shape"
   ]
  },
  {
   "cell_type": "code",
   "execution_count": 111,
   "id": "ea001e8f",
   "metadata": {},
   "outputs": [],
   "source": [
    "def plot_graph(*cols, df, test_set, figsize=(11,6)): #cols[0] = train_loss | cols[1] = test_accuracy\n",
    "    best_accuracy = df[cols[1]].max()\n",
    "    df = df.set_index('epoch')\n",
    "    print(f'max_accuracy: {best_accuracy:.3f}')\n",
    "    predicted_y_best_accuracy = df.query(f'{cols[1]} == {best_accuracy}')['predicted_y'].iloc[0]\n",
    "    cf_matrix = confusion_matrix(test_set[1].numpy(), predicted_y_best_accuracy)\n",
    "\n",
    "    df[[cols[0], cols[1]]].plot(figsize=figsize)\n",
    "    plt.legend([cols[0], cols[1]])\n",
    "    plt.show()\n",
    "    \n",
    "    df[cols[1]].plot(figsize=figsize)\n",
    "    plt.show()\n",
    "  \n",
    "    sns.heatmap(cf_matrix/np.sum(cf_matrix), annot=True, cmap = 'Blues', fmt='.2%', xticklabels = ['predicted_down', 'predicted_up'], yticklabels = ['true_down', 'true_up']);\n",
    "    plt.show()    \n",
    "    \n",
    "def create_window_data(df, window_size, cols:list, train_size=0, test_size=0, class_col='class_y', reset_to_zero_cols=False, leave_non_zero_rows=False, reset_flag=False): \n",
    "    df = df.copy()\n",
    "    windows_X = []\n",
    "    class_y = []\n",
    "\n",
    "    for i in range(df.shape[0] - window_size + 1):\n",
    "        if reset_flag:\n",
    "            cols_reset = [cols[i] for i in reset_to_zero_cols]\n",
    "            df.loc[i : i + window_size - leave_non_zero_rows, cols_reset] = 0\n",
    "            windows_X.append(df[cols].iloc[i : (i + window_size)].values)\n",
    "            class_y.append(df[class_col].iloc[i + window_size - 1])\n",
    "        else:\n",
    "            windows_X.append(df[cols].iloc[i : (i + window_size)].values)\n",
    "            class_y.append(df[class_col].iloc[i + window_size - 1]) #the last row of the window\n",
    "\n",
    "    windows_X = torch.tensor(windows_X, dtype=torch.float)\n",
    "    class_y = torch.tensor(class_y, dtype=torch.long)\n",
    "        \n",
    "    train_X, train_y = windows_X[:train_size], class_y[:train_size]\n",
    "    test_X, test_y = windows_X[train_size:(train_size + test_size)], class_y[train_size:(train_size + test_size)]\n",
    "        \n",
    "    return list(zip(train_X, train_y)), (test_X, test_y)\n",
    "\n",
    "\n",
    "\n",
    "\n",
    "class LSTMNet(nn.Module):\n",
    "    def __init__(self, input_dim, hidden_dim, output_dim, num_layers, dropout):\n",
    "        super(LSTMNet, self).__init__()\n",
    "        self.lstm = nn.LSTM(input_dim, hidden_dim, num_layers=num_layers, dropout=dropout, batch_first=True)\n",
    "        self.fc1 = nn.Linear(hidden_dim, hidden_dim)\n",
    "        self.fc2 = nn.Linear(hidden_dim, output_dim)\n",
    "    \n",
    "    def forward(self, x):\n",
    "        # out[0] of the last layer: batch_size, seq length, hidden dim -> (batch_size, hidden_dim)\n",
    "        out, _ = self.lstm(x)\n",
    "        out = out[:, -1, :] \n",
    "        out = out.relu()\n",
    "        out = self.fc1(out).relu()\n",
    "        out = self.fc2(out)\n",
    "        return out\n",
    "\n",
    "\n",
    "    \n",
    "\n",
    "def train_plain_validation(df_feat, model_params, plot_graph_flag=False):\n",
    "    train_set, test_set  = create_window_data(df_feat[model_params['starting_point']:], \n",
    "                                              window_size=model_params['window_size'],\n",
    "                                              cols=model_params['features'],\n",
    "                                              train_size=model_params['train_size'],\n",
    "                                              test_size=model_params['test_size'], \n",
    "                                              reset_to_zero_cols=model_params['reset_to_zero_cols'],\n",
    "                                              leave_non_zero_rows=model_params['leave_non_zero_rows'],\n",
    "                                              reset_flag=model_params['reset_flag'])\n",
    "\n",
    "    loader = DataLoader(train_set, batch_size=model_params['batch_size'], shuffle=False)\n",
    "    print(f'test_set proportion: {test_set[1].sum() / test_set[1].shape[0]:.2f}, test_size: {test_set[1].shape[0]}')\n",
    "\n",
    "    device = torch.device(\"cuda:0\" if torch.cuda.is_available() else \"cpu\")\n",
    "    criterion = nn.CrossEntropyLoss()\n",
    "    model = LSTMNet(input_dim=len(model_params['features']), \n",
    "                    hidden_dim=model_params['hidden_dim'], \n",
    "                    output_dim=2, \n",
    "                    num_layers=model_params['num_layers'],\n",
    "                    dropout=model_params['dropout'])\n",
    "\n",
    "    model.to(device)\n",
    "    optimizer = torch.optim.Adam(model.parameters(), lr=model_params['learning_rate'])\n",
    "\n",
    "    out_data = pd.DataFrame()\n",
    "    for epoch in range(model_params['epoch']):\n",
    "        model.train()\n",
    "        total_loss = 0\n",
    "        for data in loader:\n",
    "            train_X, train_y = data[0].to(device), data[1].to(device)\n",
    "            optimizer.zero_grad()\n",
    "            out = model(train_X)\n",
    "\n",
    "            loss = criterion(out, train_y)\n",
    "            loss.backward()\n",
    "            optimizer.step()\n",
    "\n",
    "            total_loss += loss.item()\n",
    "\n",
    "        if (epoch + 1) % model_params['epoch_divisor'] == 0:\n",
    "            model.eval()\n",
    "            with torch.no_grad():\n",
    "                _, predicted_label = torch.max(model(test_set[0].to(device)), 1)\n",
    "                predicted_label = predicted_label.detach().cpu().numpy()\n",
    "                accuracy = accuracy_score(test_set[1].numpy(), predicted_label)\n",
    "\n",
    "            out_data = out_data.append({'epoch': epoch,\n",
    "                                       'train_loss': total_loss,\n",
    "                                       'test_accuracy': accuracy, \n",
    "                                       'predicted_y': predicted_label}, ignore_index=True)\n",
    "    if plot_graph:\n",
    "        plot_graph('train_loss', 'test_accuracy', df=out_data, test_set=test_set)\n",
    "    return out_data, test_set"
   ]
  },
  {
   "cell_type": "code",
   "execution_count": 116,
   "id": "f1b7fb48",
   "metadata": {},
   "outputs": [
    {
     "name": "stdout",
     "output_type": "stream",
     "text": [
      "n_features: 9\n",
      "test_set proportion: 0.56, test_size: 100\n",
      "max_accuracy: 0.640\n"
     ]
    },
    {
     "data": {
      "image/png": "[encoded data removed]",
      "text/plain": [
       "<Figure size 792x432 with 1 Axes>"
      ]
     },
     "metadata": {
      "needs_background": "light"
     },
     "output_type": "display_data"
    },
    {
     "data": {
      "image/png": "[encoded data removed]",
      "text/plain": [
       "<Figure size 792x432 with 1 Axes>"
      ]
     },
     "metadata": {
      "needs_background": "light"
     },
     "output_type": "display_data"
    },
    {
     "data": {
      "image/png": "[encoded data removed]",
      "text/plain": [
       "<Figure size 432x288 with 2 Axes>"
      ]
     },
     "metadata": {
      "needs_background": "light"
     },
     "output_type": "display_data"
    }
   ],
   "source": [
    "features = ['ret_close_close', 'ret_close_open','volume_sh', 'cpi', 't_bill_1y', 'gdp', 'unemployment', 'close_sh', 'ret_n225']\n",
    "print(f'n_features: {len(features)}')\n",
    "model_params = {'hidden_dim': 128, \n",
    "                'num_layers': 1,\n",
    "                'dropout': 0, \n",
    "                'learning_rate': .007,\n",
    "                'starting_point': 100,\n",
    "                'batch_size': 2800,\n",
    "                'train_size': 2800,\n",
    "                'test_size': 100,\n",
    "                'features': features,\n",
    "                'window_size': 3,\n",
    "                'epoch': 1000,\n",
    "                'epoch_divisor': 2, \n",
    "                'reset_to_zero_cols': [],\n",
    "                'leave_non_zero_rows': 3,\n",
    "                'reset_flag': False}\n",
    "\n",
    "out, _ = train_plain_validation(df_feat, model_params, plot_graph_flag=True)"
   ]
  },
  {
   "cell_type": "code",
   "execution_count": null,
   "id": "8f8b0d14",
   "metadata": {},
   "outputs": [],
   "source": []
  },
  {
   "cell_type": "code",
   "execution_count": null,
   "id": "669d6df8",
   "metadata": {},
   "outputs": [],
   "source": []
  },
  {
   "cell_type": "code",
   "execution_count": null,
   "id": "f62a268d",
   "metadata": {},
   "outputs": [],
   "source": []
  },
  {
   "cell_type": "code",
   "execution_count": null,
   "id": "5a4c2e2c",
   "metadata": {},
   "outputs": [],
   "source": []
  },
  {
   "cell_type": "code",
   "execution_count": null,
   "id": "cfecaa71",
   "metadata": {},
   "outputs": [],
   "source": []
  },
  {
   "cell_type": "code",
   "execution_count": null,
   "id": "e12c0589",
   "metadata": {},
   "outputs": [],
   "source": []
  },
  {
   "cell_type": "code",
   "execution_count": null,
   "id": "47abad5a",
   "metadata": {},
   "outputs": [],
   "source": []
  },
  {
   "cell_type": "code",
   "execution_count": null,
   "id": "f046c462",
   "metadata": {},
   "outputs": [],
   "source": []
  },
  {
   "cell_type": "code",
   "execution_count": null,
   "id": "a7a3f989",
   "metadata": {},
   "outputs": [],
   "source": []
  },
  {
   "cell_type": "code",
   "execution_count": null,
   "id": "e21e55e7",
   "metadata": {},
   "outputs": [],
   "source": []
  },
  {
   "cell_type": "code",
   "execution_count": null,
   "id": "4d346492",
   "metadata": {},
   "outputs": [],
   "source": []
  },
  {
   "cell_type": "code",
   "execution_count": null,
   "id": "152d60a2",
   "metadata": {},
   "outputs": [],
   "source": []
  },
  {
   "cell_type": "code",
   "execution_count": null,
   "id": "b2b17fb1",
   "metadata": {},
   "outputs": [],
   "source": []
  },
  {
   "cell_type": "code",
   "execution_count": null,
   "id": "b480d16d",
   "metadata": {},
   "outputs": [],
   "source": []
  },
  {
   "cell_type": "code",
   "execution_count": null,
   "id": "7979a547",
   "metadata": {},
   "outputs": [],
   "source": []
  },
  {
   "cell_type": "code",
   "execution_count": null,
   "id": "54decf6d",
   "metadata": {},
   "outputs": [],
   "source": []
  },
  {
   "cell_type": "code",
   "execution_count": null,
   "id": "a22fac8c",
   "metadata": {},
   "outputs": [],
   "source": []
  },
  {
   "cell_type": "code",
   "execution_count": null,
   "id": "a935b239",
   "metadata": {},
   "outputs": [],
   "source": []
  },
  {
   "cell_type": "code",
   "execution_count": null,
   "id": "c29c6f7e",
   "metadata": {},
   "outputs": [],
   "source": []
  },
  {
   "cell_type": "code",
   "execution_count": null,
   "id": "464988f0",
   "metadata": {},
   "outputs": [],
   "source": []
  },
  {
   "cell_type": "code",
   "execution_count": null,
   "id": "a71e6329",
   "metadata": {},
   "outputs": [],
   "source": []
  },
  {
   "cell_type": "code",
   "execution_count": null,
   "id": "6c2b15ec",
   "metadata": {},
   "outputs": [],
   "source": []
  },
  {
   "cell_type": "code",
   "execution_count": null,
   "id": "5247b0f6",
   "metadata": {},
   "outputs": [],
   "source": []
  },
  {
   "cell_type": "code",
   "execution_count": null,
   "id": "87a976bd",
   "metadata": {},
   "outputs": [],
   "source": []
  },
  {
   "cell_type": "code",
   "execution_count": null,
   "id": "6335a9a7",
   "metadata": {},
   "outputs": [],
   "source": []
  },
  {
   "cell_type": "code",
   "execution_count": null,
   "id": "9b84a837",
   "metadata": {},
   "outputs": [],
   "source": []
  },
  {
   "cell_type": "code",
   "execution_count": null,
   "id": "93862fd7",
   "metadata": {},
   "outputs": [],
   "source": []
  },
  {
   "cell_type": "code",
   "execution_count": null,
   "id": "457b2ee5",
   "metadata": {},
   "outputs": [],
   "source": []
  },
  {
   "cell_type": "code",
   "execution_count": null,
   "id": "231a4aaf",
   "metadata": {},
   "outputs": [],
   "source": []
  },
  {
   "cell_type": "code",
   "execution_count": null,
   "id": "d136355f",
   "metadata": {},
   "outputs": [],
   "source": []
  },
  {
   "cell_type": "code",
   "execution_count": null,
   "id": "a06fd450",
   "metadata": {},
   "outputs": [],
   "source": []
  },
  {
   "cell_type": "code",
   "execution_count": null,
   "id": "36aa8a7a",
   "metadata": {},
   "outputs": [],
   "source": []
  },
  {
   "cell_type": "code",
   "execution_count": null,
   "id": "db8cb1de",
   "metadata": {},
   "outputs": [],
   "source": []
  },
  {
   "cell_type": "code",
   "execution_count": null,
   "id": "473fe638",
   "metadata": {},
   "outputs": [],
   "source": []
  },
  {
   "cell_type": "code",
   "execution_count": null,
   "id": "fd9f5dc9",
   "metadata": {},
   "outputs": [],
   "source": []
  },
  {
   "cell_type": "code",
   "execution_count": null,
   "id": "36381858",
   "metadata": {},
   "outputs": [],
   "source": []
  },
  {
   "cell_type": "code",
   "execution_count": null,
   "id": "b28d3450",
   "metadata": {},
   "outputs": [],
   "source": []
  },
  {
   "cell_type": "code",
   "execution_count": null,
   "id": "4ae36c08",
   "metadata": {},
   "outputs": [],
   "source": []
  },
  {
   "cell_type": "code",
   "execution_count": null,
   "id": "14af05d8",
   "metadata": {},
   "outputs": [],
   "source": []
  },
  {
   "cell_type": "code",
   "execution_count": null,
   "id": "feaa8661",
   "metadata": {},
   "outputs": [],
   "source": []
  },
  {
   "cell_type": "code",
   "execution_count": null,
   "id": "6d77e0b6",
   "metadata": {},
   "outputs": [],
   "source": []
  },
  {
   "cell_type": "code",
   "execution_count": null,
   "id": "dffc98fe",
   "metadata": {},
   "outputs": [],
   "source": []
  },
  {
   "cell_type": "code",
   "execution_count": null,
   "id": "b206ffe4",
   "metadata": {},
   "outputs": [],
   "source": []
  },
  {
   "cell_type": "code",
   "execution_count": null,
   "id": "de3cce88",
   "metadata": {},
   "outputs": [],
   "source": []
  },
  {
   "cell_type": "code",
   "execution_count": null,
   "id": "3a828594",
   "metadata": {},
   "outputs": [],
   "source": []
  },
  {
   "cell_type": "code",
   "execution_count": null,
   "id": "3e9f00bf",
   "metadata": {},
   "outputs": [],
   "source": []
  }
 ],
 "metadata": {
  "kernelspec": {
   "display_name": "Python 3 (ipykernel)",
   "language": "python",
   "name": "python3"
  },
  "language_info": {
   "codemirror_mode": {
    "name": "ipython",
    "version": 3
   },
   "file_extension": ".py",
   "mimetype": "text/x-python",
   "name": "python",
   "nbconvert_exporter": "python",
   "pygments_lexer": "ipython3",
   "version": "3.9.13"
  }
 },
 "nbformat": 4,
 "nbformat_minor": 5
}
